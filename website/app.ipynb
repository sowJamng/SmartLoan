{
 "cells": [
  {
   "cell_type": "code",
   "execution_count": 3,
   "metadata": {},
   "outputs": [
    {
     "name": "stdout",
     "output_type": "stream",
     "text": [
      " * Serving Flask app '__main__' (lazy loading)\n",
      " * Environment: production\n",
      "\u001b[31m   WARNING: This is a development server. Do not use it in a production deployment.\u001b[0m\n",
      "\u001b[2m   Use a production WSGI server instead.\u001b[0m\n",
      " * Debug mode: off\n"
     ]
    },
    {
     "name": "stderr",
     "output_type": "stream",
     "text": [
      " * Running on http://127.0.0.1:5000/ (Press CTRL+C to quit)\n",
      "[2022-05-24 10:29:04,855] ERROR in app: Exception on / [GET]\n",
      "Traceback (most recent call last):\n",
      "  File \"c:\\Miage\\ML\\projet\\SmartLoan\\venv\\lib\\site-packages\\flask\\app.py\", line 2073, in wsgi_app\n",
      "    response = self.full_dispatch_request()\n",
      "  File \"c:\\Miage\\ML\\projet\\SmartLoan\\venv\\lib\\site-packages\\flask\\app.py\", line 1518, in full_dispatch_request\n",
      "    rv = self.handle_user_exception(e)\n",
      "  File \"c:\\Miage\\ML\\projet\\SmartLoan\\venv\\lib\\site-packages\\flask\\app.py\", line 1516, in full_dispatch_request\n",
      "    rv = self.dispatch_request()\n",
      "  File \"c:\\Miage\\ML\\projet\\SmartLoan\\venv\\lib\\site-packages\\flask\\app.py\", line 1502, in dispatch_request\n",
      "    return self.ensure_sync(self.view_functions[rule.endpoint])(**req.view_args)\n",
      "  File \"C:\\Users\\m-l.sow\\AppData\\Local\\Temp\\ipykernel_17984\\254386167.py\", line 14, in index\n",
      "    return flask.render_template('index.html')\n",
      "  File \"c:\\Miage\\ML\\projet\\SmartLoan\\venv\\lib\\site-packages\\flask\\templating.py\", line 147, in render_template\n",
      "    return _render(\n",
      "  File \"c:\\Miage\\ML\\projet\\SmartLoan\\venv\\lib\\site-packages\\flask\\templating.py\", line 128, in _render\n",
      "    rv = template.render(context)\n",
      "  File \"c:\\Miage\\ML\\projet\\SmartLoan\\venv\\lib\\site-packages\\jinja2\\environment.py\", line 1291, in render\n",
      "    self.environment.handle_exception()\n",
      "  File \"c:\\Miage\\ML\\projet\\SmartLoan\\venv\\lib\\site-packages\\jinja2\\environment.py\", line 925, in handle_exception\n",
      "    raise rewrite_traceback_stack(source=source)\n",
      "  File \"c:\\Miage\\ML\\projet\\SmartLoan\\website\\templates\\index.html\", line 1, in top-level template code\n",
      "    {% extends \"base.html\" %} {% block title %}Changed{% endblock  %}\n",
      "  File \"c:\\Miage\\ML\\projet\\SmartLoan\\website\\templates\\base.html\", line 19, in top-level template code\n",
      "    {% if user.is_authenticated %}\n",
      "  File \"c:\\Miage\\ML\\projet\\SmartLoan\\venv\\lib\\site-packages\\jinja2\\environment.py\", line 474, in getattr\n",
      "    return getattr(obj, attribute)\n",
      "jinja2.exceptions.UndefinedError: 'user' is undefined\n",
      "127.0.0.1 - - [24/May/2022 10:29:04] \"GET / HTTP/1.1\" 500 -\n"
     ]
    }
   ],
   "source": [
    "import os\n",
    "import numpy as np\n",
    "import flask\n",
    "import pickle\n",
    "from flask import Flask, redirect, url_for, request, render_template\n",
    "\n",
    "# creating instance of the class\n",
    "app = Flask(__name__, template_folder='templates')\n",
    "\n",
    "# to tell flask what url should trigger the function index()\n",
    "@app.route('/')\n",
    "@app.route('/index')\n",
    "def index():\n",
    "    return flask.render_template('index.html')\n",
    "    \n",
    "    \n",
    "# prediction function\n",
    "def ValuePredictor(to_predict_list):\n",
    "    to_predict = np.array(to_predict_list).reshape(1,2)\n",
    "    loaded_model = pickle.load(open(\"model.pkl\",\"rb\")) # load the model\n",
    "    result = loaded_model.predict(to_predict) # predict the values using loded model\n",
    "    return result[0]\n",
    "\n",
    "\n",
    "@app.route('/result', methods = ['POST'])\n",
    "def result():\n",
    "    if request.method == 'POST':\n",
    "        to_predict_list = request.form.values()\n",
    "        to_predict_list = list(map(float, to_predict_list))\n",
    "        result = ValuePredictor(to_predict_list)\n",
    "        prediction = 'prediction'    \n",
    "        if float(result) == 0:\n",
    "            prediction='Customers with medium annual income and medium annual spend'\n",
    "        elif float(result) == 1:\n",
    "            prediction='Customers with medium to high annual income and low annual spend'\n",
    "        elif float(result) == 2:\n",
    "            prediction='Customers with low annual income and low annual spend'\n",
    "        elif float(result) == 3:\n",
    "            prediction='Customers with low annual income and high annual spend'\n",
    "        elif float(result) == 4:\n",
    "            prediction='Customers with medium to high annual income and high annual spend'\n",
    "            \n",
    "        return render_template(\"result.html\",prediction=prediction)\n",
    "\n",
    "if __name__ == \"__main__\":\n",
    "    app.run(debug=False) # use debug = False for jupyter notebook    "
   ]
  }
 ],
 "metadata": {
  "interpreter": {
   "hash": "d18114545701b9e67574d8a78e68e6a25d5fdf4cd44d9c4a23e7cf09f8a65f39"
  },
  "kernelspec": {
   "display_name": "Python 3.9.6 ('venv': venv)",
   "language": "python",
   "name": "python3"
  },
  "language_info": {
   "codemirror_mode": {
    "name": "ipython",
    "version": 3
   },
   "file_extension": ".py",
   "mimetype": "text/x-python",
   "name": "python",
   "nbconvert_exporter": "python",
   "pygments_lexer": "ipython3",
   "version": "3.9.6"
  },
  "orig_nbformat": 4
 },
 "nbformat": 4,
 "nbformat_minor": 2
}
